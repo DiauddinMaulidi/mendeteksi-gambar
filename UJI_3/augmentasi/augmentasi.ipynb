{
 "cells": [
  {
   "cell_type": "code",
   "execution_count": 1,
   "id": "9064b730",
   "metadata": {},
   "outputs": [],
   "source": [
    "import cv2\n",
    "import os\n",
    "from imgaug import augmenters as iaa\n",
    "from skimage import color\n",
    "\n",
    "import matplotlib.pyplot as plt\n",
    "from PIL import Image"
   ]
  },
  {
   "cell_type": "code",
   "execution_count": 15,
   "id": "f07af531",
   "metadata": {},
   "outputs": [
    {
     "data": {
      "text/plain": [
       "'RGB'"
      ]
     },
     "execution_count": 15,
     "metadata": {},
     "output_type": "execute_result"
    }
   ],
   "source": [
    "# cara cek format gambar\n",
    "image = cv2.imread('dataset_tanpa_augmentasi/RingSpot/RingSpot(120).jpg')\n",
    "img = Image.fromarray(image)\n",
    "img.mode"
   ]
  },
  {
   "cell_type": "code",
   "execution_count": 27,
   "id": "26dd17e3",
   "metadata": {},
   "outputs": [],
   "source": [
    "folder_input = 'dataset_tanpa_augmentasi' # folder input\n",
    "folder_output = 'dataset_aug' # folder output\n",
    "\n",
    "dataset_images = [dataset_image for dataset_image in os.listdir(folder_input)]\n",
    "\n",
    "for name_folder in dataset_images:\n",
    "    os.makedirs(os.path.join(folder_output, name_folder), exist_ok=True)\n",
    "\n",
    "\n",
    "# augmentasi gambar\n",
    "augmenter = iaa.Sequential([\n",
    "    iaa.Fliplr(0.5),\n",
    "    # iaa.Crop(percent=(0, 0.1)),\n",
    "    iaa.Affine(\n",
    "        rotate=(-45, 45),\n",
    "        shear=(-16, 16)\n",
    "    ),\n",
    "    iaa.GaussianBlur(sigma=(0, 0.5)),\n",
    "    iaa.LinearContrast((0.75, 1.5)),\n",
    "    iaa.AdditiveGaussianNoise(loc=0, scale=(0.0, 0.05*255), per_channel=0.5)\n",
    "], random_order=True)\n",
    "\n",
    "def augment_image(img):\n",
    "    return augmenter.augment_image(img)\n",
    "\n",
    "# fungsi untuk menentukan nama label dari nama file\n",
    "def get_name_label(filename):\n",
    "    for labels in dataset_images:\n",
    "        if labels in filename:\n",
    "            return labels\n",
    "    return None\n",
    "\n",
    "\n",
    "# memproses semua gambar\n",
    "for new_file in os.listdir(folder_input):\n",
    "    path_imgs = os.path.join(folder_input, new_file)\n",
    "    label = get_name_label(new_file)\n",
    "    for path_img in os.listdir(path_imgs):\n",
    "        original_path = os.path.join(path_imgs, path_img)\n",
    "        image = cv2.imread(original_path)\n",
    "        image = cv2.cvtColor(image, cv2.COLOR_BGR2RGB)\n",
    "\n",
    "        # pastikan file memiliki ekstensi\n",
    "        _, ext = os.path.splitext(original_path)\n",
    "        if ext.lower() in [\".jpg\", \".jpeg\", \".png\"]:\n",
    "            output_path = os.path.join(folder_output, label, path_img)\n",
    "            # print(output_path)\n",
    "            cv2.imwrite(output_path, image)\n",
    "        else:\n",
    "            print(f\"⚠️ Ekstensi tidak dikenali: {path_img}\")\n",
    "\n",
    "        for i in range(3):\n",
    "            img_aug = augment_image(image)\n",
    "            new_filename = f\"{path_img.split('.')[0]}_aug{i+1}.jpg\"\n",
    "            save_path = os.path.join(folder_output, label, new_filename)\n",
    "            cv2.imwrite(save_path, img_aug)"
   ]
  },
  {
   "cell_type": "code",
   "execution_count": 28,
   "id": "775dfabb",
   "metadata": {},
   "outputs": [],
   "source": [
    "# img_lokasi = imread(file_path[0])\n",
    "\n",
    "# plt.figure(figsize=(8, 6))\n",
    "# plt.imshow(img_lokasi)\n",
    "# plt.show()"
   ]
  },
  {
   "cell_type": "code",
   "execution_count": null,
   "id": "0f24a361",
   "metadata": {},
   "outputs": [],
   "source": []
  }
 ],
 "metadata": {
  "kernelspec": {
   "display_name": "Python 3",
   "language": "python",
   "name": "python3"
  },
  "language_info": {
   "codemirror_mode": {
    "name": "ipython",
    "version": 3
   },
   "file_extension": ".py",
   "mimetype": "text/x-python",
   "name": "python",
   "nbconvert_exporter": "python",
   "pygments_lexer": "ipython3",
   "version": "3.12.5"
  }
 },
 "nbformat": 4,
 "nbformat_minor": 5
}
