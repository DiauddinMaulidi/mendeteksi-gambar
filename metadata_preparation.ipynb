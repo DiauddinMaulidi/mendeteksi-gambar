{
 "cells": [
  {
   "cell_type": "markdown",
   "id": "51dc39cb",
   "metadata": {},
   "source": [
    "#### Mendapatkan image path"
   ]
  },
  {
   "cell_type": "code",
   "execution_count": 1,
   "id": "70e3dd59",
   "metadata": {},
   "outputs": [],
   "source": [
    "from glob import glob\n",
    "import numpy as np\n",
    "import pandas as pd\n",
    "import matplotlib.pyplot as plt"
   ]
  },
  {
   "cell_type": "code",
   "execution_count": 2,
   "id": "1ced926d",
   "metadata": {},
   "outputs": [
    {
     "data": {
      "text/plain": [
       "['data\\\\0\\\\1.png',\n",
       " 'data\\\\0\\\\10.png',\n",
       " 'data\\\\0\\\\100.png',\n",
       " 'data\\\\0\\\\101.png',\n",
       " 'data\\\\0\\\\102.png',\n",
       " 'data\\\\0\\\\103.png',\n",
       " 'data\\\\0\\\\104.png',\n",
       " 'data\\\\0\\\\105.png',\n",
       " 'data\\\\0\\\\106.png',\n",
       " 'data\\\\0\\\\107.png']"
      ]
     },
     "execution_count": 2,
     "metadata": {},
     "output_type": "execute_result"
    }
   ],
   "source": [
    "fname = glob(\"data/*/*.png\")\n",
    "fname[:10]"
   ]
  },
  {
   "cell_type": "code",
   "execution_count": 7,
   "id": "bc65f71c",
   "metadata": {},
   "outputs": [
    {
     "data": {
      "text/plain": [
       "array([[0., 0., 0., ..., 0., 0., 0.],\n",
       "       [0., 0., 0., ..., 0., 0., 0.],\n",
       "       [0., 0., 0., ..., 0., 0., 0.],\n",
       "       ...,\n",
       "       [0., 0., 0., ..., 0., 0., 0.],\n",
       "       [0., 0., 0., ..., 0., 0., 0.],\n",
       "       [0., 0., 0., ..., 0., 0., 0.]], dtype=float32)"
      ]
     },
     "execution_count": 7,
     "metadata": {},
     "output_type": "execute_result"
    }
   ],
   "source": [
    "X = np.array([plt.imread(f).flatten() for f in fname])\n",
    "X"
   ]
  },
  {
   "cell_type": "code",
   "execution_count": 8,
   "id": "d9be780f",
   "metadata": {},
   "outputs": [
    {
     "data": {
      "text/plain": [
       "(2000, 784)"
      ]
     },
     "execution_count": 8,
     "metadata": {},
     "output_type": "execute_result"
    }
   ],
   "source": [
    "X.shape"
   ]
  },
  {
   "cell_type": "code",
   "execution_count": null,
   "id": "7363929e-4478-4f71-954d-790e26916c63",
   "metadata": {},
   "outputs": [],
   "source": []
  }
 ],
 "metadata": {
  "kernelspec": {
   "display_name": "Python 3 (ipykernel)",
   "language": "python",
   "name": "python3"
  },
  "language_info": {
   "codemirror_mode": {
    "name": "ipython",
    "version": 3
   },
   "file_extension": ".py",
   "mimetype": "text/x-python",
   "name": "python",
   "nbconvert_exporter": "python",
   "pygments_lexer": "ipython3",
   "version": "3.12.5"
  }
 },
 "nbformat": 4,
 "nbformat_minor": 5
}
